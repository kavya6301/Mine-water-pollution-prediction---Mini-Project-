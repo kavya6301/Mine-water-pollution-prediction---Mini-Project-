{
  "nbformat": 4,
  "nbformat_minor": 0,
  "metadata": {
    "colab": {
      "name": "pollutant_forecasting.ipynb",
      "provenance": [],
      "include_colab_link": true
    },
    "kernelspec": {
      "name": "python3",
      "display_name": "Python 3"
    },
    "accelerator": "GPU"
  },
  "cells": [
    {
      "cell_type": "markdown",
      "metadata": {
        "id": "view-in-github",
        "colab_type": "text"
      },
      "source": [
        "<a href=\"https://colab.research.google.com/github/kavya6301/Mine-water-pollution-prediction---Mini-Project-/blob/main/pollutant_forecasting.ipynb\" target=\"_parent\"><img src=\"https://colab.research.google.com/assets/colab-badge.svg\" alt=\"Open In Colab\"/></a>"
      ]
    },
    {
      "cell_type": "code",
      "metadata": {
        "colab": {
          "base_uri": "https://localhost:8080/"
        },
        "id": "wGDJDkxOKqUc",
        "outputId": "740c9c59-dc1f-4097-c6d9-8a65170ba423"
      },
      "source": [
        "!nvidia-smi"
      ],
      "execution_count": null,
      "outputs": [
        {
          "output_type": "stream",
          "text": [
            "Fri Mar 19 08:12:17 2021       \n",
            "+-----------------------------------------------------------------------------+\n",
            "| NVIDIA-SMI 460.56       Driver Version: 460.32.03    CUDA Version: 11.2     |\n",
            "|-------------------------------+----------------------+----------------------+\n",
            "| GPU  Name        Persistence-M| Bus-Id        Disp.A | Volatile Uncorr. ECC |\n",
            "| Fan  Temp  Perf  Pwr:Usage/Cap|         Memory-Usage | GPU-Util  Compute M. |\n",
            "|                               |                      |               MIG M. |\n",
            "|===============================+======================+======================|\n",
            "|   0  Tesla T4            Off  | 00000000:00:04.0 Off |                    0 |\n",
            "| N/A   30C    P8     9W /  70W |      0MiB / 15109MiB |      0%      Default |\n",
            "|                               |                      |                  N/A |\n",
            "+-------------------------------+----------------------+----------------------+\n",
            "                                                                               \n",
            "+-----------------------------------------------------------------------------+\n",
            "| Processes:                                                                  |\n",
            "|  GPU   GI   CI        PID   Type   Process name                  GPU Memory |\n",
            "|        ID   ID                                                   Usage      |\n",
            "|=============================================================================|\n",
            "|  No running processes found                                                 |\n",
            "+-----------------------------------------------------------------------------+\n"
          ],
          "name": "stdout"
        }
      ]
    },
    {
      "cell_type": "code",
      "metadata": {
        "colab": {
          "base_uri": "https://localhost:8080/"
        },
        "id": "h2c9JGzuKzpz",
        "outputId": "cd81c4e5-9044-4ff3-b3b6-2dc89bd28b4e"
      },
      "source": [
        "!pip install tensorflow-gpu"
      ],
      "execution_count": null,
      "outputs": [
        {
          "output_type": "stream",
          "text": [
            "Collecting tensorflow-gpu\n",
            "\u001b[?25l  Downloading https://files.pythonhosted.org/packages/85/cc/a27e73cf8b23f2ce4bdd2b7089a42a7819ce6dd7366dceba406ddc5daa9c/tensorflow_gpu-2.4.1-cp37-cp37m-manylinux2010_x86_64.whl (394.3MB)\n",
            "\u001b[K     |████████████████████████████████| 394.3MB 39kB/s \n",
            "\u001b[?25hRequirement already satisfied: opt-einsum~=3.3.0 in /usr/local/lib/python3.7/dist-packages (from tensorflow-gpu) (3.3.0)\n",
            "Requirement already satisfied: google-pasta~=0.2 in /usr/local/lib/python3.7/dist-packages (from tensorflow-gpu) (0.2.0)\n",
            "Requirement already satisfied: tensorboard~=2.4 in /usr/local/lib/python3.7/dist-packages (from tensorflow-gpu) (2.4.1)\n",
            "Requirement already satisfied: grpcio~=1.32.0 in /usr/local/lib/python3.7/dist-packages (from tensorflow-gpu) (1.32.0)\n",
            "Requirement already satisfied: typing-extensions~=3.7.4 in /usr/local/lib/python3.7/dist-packages (from tensorflow-gpu) (3.7.4.3)\n",
            "Requirement already satisfied: tensorflow-estimator<2.5.0,>=2.4.0 in /usr/local/lib/python3.7/dist-packages (from tensorflow-gpu) (2.4.0)\n",
            "Requirement already satisfied: termcolor~=1.1.0 in /usr/local/lib/python3.7/dist-packages (from tensorflow-gpu) (1.1.0)\n",
            "Requirement already satisfied: numpy~=1.19.2 in /usr/local/lib/python3.7/dist-packages (from tensorflow-gpu) (1.19.5)\n",
            "Requirement already satisfied: absl-py~=0.10 in /usr/local/lib/python3.7/dist-packages (from tensorflow-gpu) (0.10.0)\n",
            "Requirement already satisfied: protobuf>=3.9.2 in /usr/local/lib/python3.7/dist-packages (from tensorflow-gpu) (3.12.4)\n",
            "Requirement already satisfied: six~=1.15.0 in /usr/local/lib/python3.7/dist-packages (from tensorflow-gpu) (1.15.0)\n",
            "Requirement already satisfied: wrapt~=1.12.1 in /usr/local/lib/python3.7/dist-packages (from tensorflow-gpu) (1.12.1)\n",
            "Requirement already satisfied: astunparse~=1.6.3 in /usr/local/lib/python3.7/dist-packages (from tensorflow-gpu) (1.6.3)\n",
            "Requirement already satisfied: keras-preprocessing~=1.1.2 in /usr/local/lib/python3.7/dist-packages (from tensorflow-gpu) (1.1.2)\n",
            "Requirement already satisfied: wheel~=0.35 in /usr/local/lib/python3.7/dist-packages (from tensorflow-gpu) (0.36.2)\n",
            "Requirement already satisfied: gast==0.3.3 in /usr/local/lib/python3.7/dist-packages (from tensorflow-gpu) (0.3.3)\n",
            "Requirement already satisfied: flatbuffers~=1.12.0 in /usr/local/lib/python3.7/dist-packages (from tensorflow-gpu) (1.12)\n",
            "Requirement already satisfied: h5py~=2.10.0 in /usr/local/lib/python3.7/dist-packages (from tensorflow-gpu) (2.10.0)\n",
            "Requirement already satisfied: google-auth-oauthlib<0.5,>=0.4.1 in /usr/local/lib/python3.7/dist-packages (from tensorboard~=2.4->tensorflow-gpu) (0.4.3)\n",
            "Requirement already satisfied: markdown>=2.6.8 in /usr/local/lib/python3.7/dist-packages (from tensorboard~=2.4->tensorflow-gpu) (3.3.4)\n",
            "Requirement already satisfied: tensorboard-plugin-wit>=1.6.0 in /usr/local/lib/python3.7/dist-packages (from tensorboard~=2.4->tensorflow-gpu) (1.8.0)\n",
            "Requirement already satisfied: google-auth<2,>=1.6.3 in /usr/local/lib/python3.7/dist-packages (from tensorboard~=2.4->tensorflow-gpu) (1.27.1)\n",
            "Requirement already satisfied: requests<3,>=2.21.0 in /usr/local/lib/python3.7/dist-packages (from tensorboard~=2.4->tensorflow-gpu) (2.23.0)\n",
            "Requirement already satisfied: werkzeug>=0.11.15 in /usr/local/lib/python3.7/dist-packages (from tensorboard~=2.4->tensorflow-gpu) (1.0.1)\n",
            "Requirement already satisfied: setuptools>=41.0.0 in /usr/local/lib/python3.7/dist-packages (from tensorboard~=2.4->tensorflow-gpu) (54.0.0)\n",
            "Requirement already satisfied: requests-oauthlib>=0.7.0 in /usr/local/lib/python3.7/dist-packages (from google-auth-oauthlib<0.5,>=0.4.1->tensorboard~=2.4->tensorflow-gpu) (1.3.0)\n",
            "Requirement already satisfied: importlib-metadata; python_version < \"3.8\" in /usr/local/lib/python3.7/dist-packages (from markdown>=2.6.8->tensorboard~=2.4->tensorflow-gpu) (3.7.2)\n",
            "Requirement already satisfied: cachetools<5.0,>=2.0.0 in /usr/local/lib/python3.7/dist-packages (from google-auth<2,>=1.6.3->tensorboard~=2.4->tensorflow-gpu) (4.2.1)\n",
            "Requirement already satisfied: rsa<5,>=3.1.4; python_version >= \"3.6\" in /usr/local/lib/python3.7/dist-packages (from google-auth<2,>=1.6.3->tensorboard~=2.4->tensorflow-gpu) (4.7.2)\n",
            "Requirement already satisfied: pyasn1-modules>=0.2.1 in /usr/local/lib/python3.7/dist-packages (from google-auth<2,>=1.6.3->tensorboard~=2.4->tensorflow-gpu) (0.2.8)\n",
            "Requirement already satisfied: urllib3!=1.25.0,!=1.25.1,<1.26,>=1.21.1 in /usr/local/lib/python3.7/dist-packages (from requests<3,>=2.21.0->tensorboard~=2.4->tensorflow-gpu) (1.24.3)\n",
            "Requirement already satisfied: certifi>=2017.4.17 in /usr/local/lib/python3.7/dist-packages (from requests<3,>=2.21.0->tensorboard~=2.4->tensorflow-gpu) (2020.12.5)\n",
            "Requirement already satisfied: idna<3,>=2.5 in /usr/local/lib/python3.7/dist-packages (from requests<3,>=2.21.0->tensorboard~=2.4->tensorflow-gpu) (2.10)\n",
            "Requirement already satisfied: chardet<4,>=3.0.2 in /usr/local/lib/python3.7/dist-packages (from requests<3,>=2.21.0->tensorboard~=2.4->tensorflow-gpu) (3.0.4)\n",
            "Requirement already satisfied: oauthlib>=3.0.0 in /usr/local/lib/python3.7/dist-packages (from requests-oauthlib>=0.7.0->google-auth-oauthlib<0.5,>=0.4.1->tensorboard~=2.4->tensorflow-gpu) (3.1.0)\n",
            "Requirement already satisfied: zipp>=0.5 in /usr/local/lib/python3.7/dist-packages (from importlib-metadata; python_version < \"3.8\"->markdown>=2.6.8->tensorboard~=2.4->tensorflow-gpu) (3.4.1)\n",
            "Requirement already satisfied: pyasn1>=0.1.3 in /usr/local/lib/python3.7/dist-packages (from rsa<5,>=3.1.4; python_version >= \"3.6\"->google-auth<2,>=1.6.3->tensorboard~=2.4->tensorflow-gpu) (0.4.8)\n",
            "Installing collected packages: tensorflow-gpu\n",
            "Successfully installed tensorflow-gpu-2.4.1\n"
          ],
          "name": "stdout"
        }
      ]
    },
    {
      "cell_type": "code",
      "metadata": {
        "id": "zqwFn5KgLHBI"
      },
      "source": [
        "import numpy as np\n",
        "import pandas as pd\n",
        "from tensorflow.keras import Sequential\n",
        "from keras.layers import LSTM\n",
        "from keras.layers import Dense\n",
        "from keras.layers import Flatten\n",
        "from matplotlib import pyplot as plt\n",
        "from sklearn.preprocessing import StandardScaler\n",
        "import sklearn.metrics as metrics\n",
        "import seaborn as sns"
      ],
      "execution_count": null,
      "outputs": []
    },
    {
      "cell_type": "code",
      "metadata": {
        "id": "O99XEsgjLhKO"
      },
      "source": [
        "df= pd.read_csv('/content/drive/MyDrive/Surface mining mini project/dataset complete.csv')"
      ],
      "execution_count": null,
      "outputs": []
    },
    {
      "cell_type": "code",
      "metadata": {
        "colab": {
          "base_uri": "https://localhost:8080/",
          "height": 202
        },
        "id": "Fw9b3QPVoS3N",
        "outputId": "8be449ad-b606-4d03-cb9b-416cba27a471"
      },
      "source": [
        "df.head()"
      ],
      "execution_count": null,
      "outputs": [
        {
          "output_type": "execute_result",
          "data": {
            "text/html": [
              "<div>\n",
              "<style scoped>\n",
              "    .dataframe tbody tr th:only-of-type {\n",
              "        vertical-align: middle;\n",
              "    }\n",
              "\n",
              "    .dataframe tbody tr th {\n",
              "        vertical-align: top;\n",
              "    }\n",
              "\n",
              "    .dataframe thead th {\n",
              "        text-align: right;\n",
              "    }\n",
              "</style>\n",
              "<table border=\"1\" class=\"dataframe\">\n",
              "  <thead>\n",
              "    <tr style=\"text-align: right;\">\n",
              "      <th></th>\n",
              "      <th>Days</th>\n",
              "      <th>PH</th>\n",
              "      <th>Rain fall</th>\n",
              "      <th>Temperature</th>\n",
              "      <th>Water table</th>\n",
              "      <th>sulphate</th>\n",
              "    </tr>\n",
              "  </thead>\n",
              "  <tbody>\n",
              "    <tr>\n",
              "      <th>0</th>\n",
              "      <td>3.111645</td>\n",
              "      <td>3.455731</td>\n",
              "      <td>45.670000</td>\n",
              "      <td>19.048588</td>\n",
              "      <td>7.998764</td>\n",
              "      <td>1524.161480</td>\n",
              "    </tr>\n",
              "    <tr>\n",
              "      <th>1</th>\n",
              "      <td>16.413930</td>\n",
              "      <td>3.413085</td>\n",
              "      <td>51.193774</td>\n",
              "      <td>18.409260</td>\n",
              "      <td>7.997492</td>\n",
              "      <td>1595.527896</td>\n",
              "    </tr>\n",
              "    <tr>\n",
              "      <th>2</th>\n",
              "      <td>32.672277</td>\n",
              "      <td>3.366452</td>\n",
              "      <td>51.226296</td>\n",
              "      <td>17.841517</td>\n",
              "      <td>8.002581</td>\n",
              "      <td>1455.097208</td>\n",
              "    </tr>\n",
              "    <tr>\n",
              "      <th>3</th>\n",
              "      <td>59.276846</td>\n",
              "      <td>3.318646</td>\n",
              "      <td>54.023181</td>\n",
              "      <td>17.212062</td>\n",
              "      <td>8.005125</td>\n",
              "      <td>1377.284794</td>\n",
              "    </tr>\n",
              "    <tr>\n",
              "      <th>4</th>\n",
              "      <td>91.793540</td>\n",
              "      <td>3.308000</td>\n",
              "      <td>60.706435</td>\n",
              "      <td>16.082747</td>\n",
              "      <td>8.063133</td>\n",
              "      <td>1305.457950</td>\n",
              "    </tr>\n",
              "  </tbody>\n",
              "</table>\n",
              "</div>"
            ],
            "text/plain": [
              "        Days        PH  Rain fall  Temperature  Water table     sulphate\n",
              "0   3.111645  3.455731  45.670000    19.048588     7.998764  1524.161480\n",
              "1  16.413930  3.413085  51.193774    18.409260     7.997492  1595.527896\n",
              "2  32.672277  3.366452  51.226296    17.841517     8.002581  1455.097208\n",
              "3  59.276846  3.318646  54.023181    17.212062     8.005125  1377.284794\n",
              "4  91.793540  3.308000  60.706435    16.082747     8.063133  1305.457950"
            ]
          },
          "metadata": {
            "tags": []
          },
          "execution_count": 4
        }
      ]
    },
    {
      "cell_type": "code",
      "metadata": {
        "colab": {
          "base_uri": "https://localhost:8080/"
        },
        "id": "MfuUjwUkW_1B",
        "outputId": "3ae71a16-3559-416b-bb90-f3a07f777ae0"
      },
      "source": [
        "X=df.drop(['sulphate'],axis=1).values\n",
        "Y=df['sulphate'].values\n",
        "from sklearn.model_selection import train_test_split\n",
        "x_train,x_test,y_train,y_test = train_test_split(X,Y,test_size = 0.20, random_state = 0)\n",
        "print(x_train.shape)\n",
        "print(y_train.shape)\n",
        "print(x_test.shape)\n",
        "print(y_test.shape)"
      ],
      "execution_count": null,
      "outputs": [
        {
          "output_type": "stream",
          "text": [
            "(128, 5)\n",
            "(128,)\n",
            "(33, 5)\n",
            "(33,)\n"
          ],
          "name": "stdout"
        }
      ]
    },
    {
      "cell_type": "code",
      "metadata": {
        "colab": {
          "base_uri": "https://localhost:8080/"
        },
        "id": "AK4BQc8ter5M",
        "outputId": "bec073e6-432c-4d05-d0a0-acf83a52782f"
      },
      "source": [
        "#ANN \n",
        "classifier = Sequential()\n",
        "\n",
        "classifier.add(Dense(units= 6, kernel_initializer = 'normal', activation = 'relu',input_dim=5))\n",
        "classifier.add(Dense(units= 6, kernel_initializer = 'normal', activation = 'relu'))\n",
        "classifier.add(Dense(units = 1, kernel_initializer = 'normal', activation = 'sigmoid'))\n",
        "\n",
        "classifier.compile(optimizer = 'adam', loss='mean_squared_error',metrics=['accuracy'])\n",
        "\n",
        "classifier.fit(x_train, y_train, batch_size = 10, epochs = 100)"
      ],
      "execution_count": null,
      "outputs": [
        {
          "output_type": "stream",
          "text": [
            "Epoch 1/100\n",
            "13/13 [==============================] - 0s 2ms/step - loss: 1038421.4821 - accuracy: 0.0000e+00\n",
            "Epoch 2/100\n",
            "13/13 [==============================] - 0s 2ms/step - loss: 1032313.7946 - accuracy: 0.0000e+00\n",
            "Epoch 3/100\n",
            "13/13 [==============================] - 0s 2ms/step - loss: 1044180.1339 - accuracy: 0.0000e+00\n",
            "Epoch 4/100\n",
            "13/13 [==============================] - 0s 2ms/step - loss: 1007057.4688 - accuracy: 0.0000e+00\n",
            "Epoch 5/100\n",
            "13/13 [==============================] - 0s 2ms/step - loss: 1031852.7723 - accuracy: 0.0000e+00\n",
            "Epoch 6/100\n",
            "13/13 [==============================] - 0s 2ms/step - loss: 1033731.1562 - accuracy: 0.0000e+00\n",
            "Epoch 7/100\n",
            "13/13 [==============================] - 0s 2ms/step - loss: 1028190.7946 - accuracy: 0.0000e+00\n",
            "Epoch 8/100\n",
            "13/13 [==============================] - 0s 2ms/step - loss: 969339.1071 - accuracy: 0.0000e+00\n",
            "Epoch 9/100\n",
            "13/13 [==============================] - 0s 2ms/step - loss: 904765.1071 - accuracy: 0.0000e+00\n",
            "Epoch 10/100\n",
            "13/13 [==============================] - 0s 2ms/step - loss: 892381.0491 - accuracy: 0.0000e+00\n",
            "Epoch 11/100\n",
            "13/13 [==============================] - 0s 2ms/step - loss: 871836.9554 - accuracy: 0.0000e+00\n",
            "Epoch 12/100\n",
            "13/13 [==============================] - 0s 2ms/step - loss: 800432.6161 - accuracy: 0.0000e+00\n",
            "Epoch 13/100\n",
            "13/13 [==============================] - 0s 2ms/step - loss: 753510.9330 - accuracy: 0.0000e+00\n",
            "Epoch 14/100\n",
            "13/13 [==============================] - 0s 2ms/step - loss: 739658.0402 - accuracy: 0.0000e+00\n",
            "Epoch 15/100\n",
            "13/13 [==============================] - 0s 2ms/step - loss: 717972.3750 - accuracy: 0.0000e+00\n",
            "Epoch 16/100\n",
            "13/13 [==============================] - 0s 2ms/step - loss: 706592.1473 - accuracy: 0.0000e+00\n",
            "Epoch 17/100\n",
            "13/13 [==============================] - 0s 2ms/step - loss: 664009.7812 - accuracy: 0.0000e+00\n",
            "Epoch 18/100\n",
            "13/13 [==============================] - 0s 2ms/step - loss: 677493.0089 - accuracy: 0.0000e+00\n",
            "Epoch 19/100\n",
            "13/13 [==============================] - 0s 2ms/step - loss: 573175.6429 - accuracy: 0.0000e+00\n",
            "Epoch 20/100\n",
            "13/13 [==============================] - 0s 2ms/step - loss: 566401.1830 - accuracy: 0.0000e+00\n",
            "Epoch 21/100\n",
            "13/13 [==============================] - 0s 2ms/step - loss: 556809.9375 - accuracy: 0.0000e+00\n",
            "Epoch 22/100\n",
            "13/13 [==============================] - 0s 2ms/step - loss: 514887.2433 - accuracy: 0.0000e+00\n",
            "Epoch 23/100\n",
            "13/13 [==============================] - 0s 2ms/step - loss: 483905.9643 - accuracy: 0.0000e+00\n",
            "Epoch 24/100\n",
            "13/13 [==============================] - 0s 2ms/step - loss: 509173.3817 - accuracy: 0.0000e+00\n",
            "Epoch 25/100\n",
            "13/13 [==============================] - 0s 2ms/step - loss: 477802.5580 - accuracy: 0.0000e+00\n",
            "Epoch 26/100\n",
            "13/13 [==============================] - 0s 2ms/step - loss: 436627.8795 - accuracy: 0.0000e+00\n",
            "Epoch 27/100\n",
            "13/13 [==============================] - 0s 2ms/step - loss: 453252.7567 - accuracy: 0.0000e+00\n",
            "Epoch 28/100\n",
            "13/13 [==============================] - 0s 2ms/step - loss: 429449.9286 - accuracy: 0.0000e+00\n",
            "Epoch 29/100\n",
            "13/13 [==============================] - 0s 3ms/step - loss: 468034.6406 - accuracy: 0.0000e+00\n",
            "Epoch 30/100\n",
            "13/13 [==============================] - 0s 2ms/step - loss: 430620.5268 - accuracy: 0.0000e+00\n",
            "Epoch 31/100\n",
            "13/13 [==============================] - 0s 2ms/step - loss: 447798.6473 - accuracy: 0.0000e+00\n",
            "Epoch 32/100\n",
            "13/13 [==============================] - 0s 2ms/step - loss: 470115.3304 - accuracy: 0.0000e+00\n",
            "Epoch 33/100\n",
            "13/13 [==============================] - 0s 2ms/step - loss: 471514.3728 - accuracy: 0.0000e+00\n",
            "Epoch 34/100\n",
            "13/13 [==============================] - 0s 2ms/step - loss: 405109.5915 - accuracy: 0.0000e+00\n",
            "Epoch 35/100\n",
            "13/13 [==============================] - 0s 2ms/step - loss: 436231.0201 - accuracy: 0.0000e+00\n",
            "Epoch 36/100\n",
            "13/13 [==============================] - 0s 2ms/step - loss: 457807.8571 - accuracy: 0.0000e+00\n",
            "Epoch 37/100\n",
            "13/13 [==============================] - 0s 2ms/step - loss: 424088.1987 - accuracy: 0.0000e+00\n",
            "Epoch 38/100\n",
            "13/13 [==============================] - 0s 2ms/step - loss: 479833.6429 - accuracy: 0.0000e+00\n",
            "Epoch 39/100\n",
            "13/13 [==============================] - 0s 2ms/step - loss: 491964.1429 - accuracy: 0.0000e+00\n",
            "Epoch 40/100\n",
            "13/13 [==============================] - 0s 2ms/step - loss: 420360.6228 - accuracy: 0.0000e+00\n",
            "Epoch 41/100\n",
            "13/13 [==============================] - 0s 2ms/step - loss: 410666.4754 - accuracy: 0.0000e+00\n",
            "Epoch 42/100\n",
            "13/13 [==============================] - 0s 2ms/step - loss: 443518.2165 - accuracy: 0.0000e+00\n",
            "Epoch 43/100\n",
            "13/13 [==============================] - 0s 2ms/step - loss: 440534.0759 - accuracy: 0.0000e+00\n",
            "Epoch 44/100\n",
            "13/13 [==============================] - 0s 2ms/step - loss: 415479.4799 - accuracy: 0.0000e+00\n",
            "Epoch 45/100\n",
            "13/13 [==============================] - 0s 2ms/step - loss: 463984.1853 - accuracy: 0.0000e+00\n",
            "Epoch 46/100\n",
            "13/13 [==============================] - 0s 2ms/step - loss: 452120.6205 - accuracy: 0.0000e+00\n",
            "Epoch 47/100\n",
            "13/13 [==============================] - 0s 2ms/step - loss: 438614.4955 - accuracy: 0.0000e+00\n",
            "Epoch 48/100\n",
            "13/13 [==============================] - 0s 2ms/step - loss: 456513.5112 - accuracy: 0.0000e+00\n",
            "Epoch 49/100\n",
            "13/13 [==============================] - 0s 2ms/step - loss: 442723.6205 - accuracy: 0.0000e+00\n",
            "Epoch 50/100\n",
            "13/13 [==============================] - 0s 2ms/step - loss: 449012.6049 - accuracy: 0.0000e+00\n",
            "Epoch 51/100\n",
            "13/13 [==============================] - 0s 2ms/step - loss: 434104.3594 - accuracy: 0.0000e+00\n",
            "Epoch 52/100\n",
            "13/13 [==============================] - 0s 2ms/step - loss: 439272.6451 - accuracy: 0.0000e+00\n",
            "Epoch 53/100\n",
            "13/13 [==============================] - 0s 2ms/step - loss: 393430.6607 - accuracy: 0.0000e+00\n",
            "Epoch 54/100\n",
            "13/13 [==============================] - 0s 2ms/step - loss: 417634.3147 - accuracy: 0.0000e+00\n",
            "Epoch 55/100\n",
            "13/13 [==============================] - 0s 2ms/step - loss: 496019.3393 - accuracy: 0.0000e+00\n",
            "Epoch 56/100\n",
            "13/13 [==============================] - 0s 3ms/step - loss: 448079.6674 - accuracy: 0.0000e+00\n",
            "Epoch 57/100\n",
            "13/13 [==============================] - 0s 2ms/step - loss: 451510.2299 - accuracy: 0.0000e+00\n",
            "Epoch 58/100\n",
            "13/13 [==============================] - 0s 2ms/step - loss: 398892.8728 - accuracy: 0.0000e+00\n",
            "Epoch 59/100\n",
            "13/13 [==============================] - 0s 2ms/step - loss: 442467.4263 - accuracy: 0.0000e+00\n",
            "Epoch 60/100\n",
            "13/13 [==============================] - 0s 2ms/step - loss: 397642.4241 - accuracy: 0.0000e+00\n",
            "Epoch 61/100\n",
            "13/13 [==============================] - 0s 2ms/step - loss: 431435.4576 - accuracy: 0.0000e+00\n",
            "Epoch 62/100\n",
            "13/13 [==============================] - 0s 2ms/step - loss: 395906.7969 - accuracy: 0.0000e+00\n",
            "Epoch 63/100\n",
            "13/13 [==============================] - 0s 2ms/step - loss: 417451.7143 - accuracy: 0.0000e+00\n",
            "Epoch 64/100\n",
            "13/13 [==============================] - 0s 2ms/step - loss: 437276.6116 - accuracy: 0.0000e+00\n",
            "Epoch 65/100\n",
            "13/13 [==============================] - 0s 2ms/step - loss: 439982.3304 - accuracy: 0.0000e+00\n",
            "Epoch 66/100\n",
            "13/13 [==============================] - 0s 2ms/step - loss: 415707.5982 - accuracy: 0.0000e+00\n",
            "Epoch 67/100\n",
            "13/13 [==============================] - 0s 2ms/step - loss: 398101.7857 - accuracy: 0.0000e+00\n",
            "Epoch 68/100\n",
            "13/13 [==============================] - 0s 2ms/step - loss: 384319.1228 - accuracy: 0.0000e+00\n",
            "Epoch 69/100\n",
            "13/13 [==============================] - 0s 3ms/step - loss: 445363.2054 - accuracy: 0.0000e+00\n",
            "Epoch 70/100\n",
            "13/13 [==============================] - 0s 2ms/step - loss: 421887.4286 - accuracy: 0.0000e+00\n",
            "Epoch 71/100\n",
            "13/13 [==============================] - 0s 2ms/step - loss: 425223.6183 - accuracy: 0.0000e+00\n",
            "Epoch 72/100\n",
            "13/13 [==============================] - 0s 2ms/step - loss: 438817.2522 - accuracy: 0.0000e+00\n",
            "Epoch 73/100\n",
            "13/13 [==============================] - 0s 2ms/step - loss: 390043.3482 - accuracy: 0.0000e+00\n",
            "Epoch 74/100\n",
            "13/13 [==============================] - 0s 2ms/step - loss: 396886.8571 - accuracy: 0.0000e+00\n",
            "Epoch 75/100\n",
            "13/13 [==============================] - 0s 2ms/step - loss: 371829.2411 - accuracy: 0.0000e+00\n",
            "Epoch 76/100\n",
            "13/13 [==============================] - 0s 2ms/step - loss: 419543.5915 - accuracy: 0.0000e+00\n",
            "Epoch 77/100\n",
            "13/13 [==============================] - 0s 2ms/step - loss: 409753.8929 - accuracy: 0.0000e+00\n",
            "Epoch 78/100\n",
            "13/13 [==============================] - 0s 2ms/step - loss: 463299.8036 - accuracy: 0.0000e+00\n",
            "Epoch 79/100\n",
            "13/13 [==============================] - 0s 2ms/step - loss: 371292.9375 - accuracy: 0.0000e+00\n",
            "Epoch 80/100\n",
            "13/13 [==============================] - 0s 2ms/step - loss: 391744.8125 - accuracy: 0.0000e+00\n",
            "Epoch 81/100\n",
            "13/13 [==============================] - 0s 3ms/step - loss: 435993.9821 - accuracy: 0.0000e+00\n",
            "Epoch 82/100\n",
            "13/13 [==============================] - 0s 2ms/step - loss: 378726.4420 - accuracy: 0.0000e+00\n",
            "Epoch 83/100\n",
            "13/13 [==============================] - 0s 2ms/step - loss: 455125.6763 - accuracy: 0.0000e+00\n",
            "Epoch 84/100\n",
            "13/13 [==============================] - 0s 2ms/step - loss: 379396.6562 - accuracy: 0.0000e+00\n",
            "Epoch 85/100\n",
            "13/13 [==============================] - 0s 2ms/step - loss: 394230.9241 - accuracy: 0.0000e+00\n",
            "Epoch 86/100\n",
            "13/13 [==============================] - 0s 2ms/step - loss: 386797.5089 - accuracy: 0.0000e+00\n",
            "Epoch 87/100\n",
            "13/13 [==============================] - 0s 2ms/step - loss: 379251.7433 - accuracy: 0.0000e+00\n",
            "Epoch 88/100\n",
            "13/13 [==============================] - 0s 2ms/step - loss: 422575.4464 - accuracy: 0.0000e+00\n",
            "Epoch 89/100\n",
            "13/13 [==============================] - 0s 2ms/step - loss: 416096.6652 - accuracy: 0.0000e+00\n",
            "Epoch 90/100\n",
            "13/13 [==============================] - 0s 2ms/step - loss: 453666.2879 - accuracy: 0.0000e+00\n",
            "Epoch 91/100\n",
            "13/13 [==============================] - 0s 3ms/step - loss: 355391.6629 - accuracy: 0.0000e+00\n",
            "Epoch 92/100\n",
            "13/13 [==============================] - 0s 2ms/step - loss: 400029.3884 - accuracy: 0.0000e+00\n",
            "Epoch 93/100\n",
            "13/13 [==============================] - 0s 2ms/step - loss: 404738.4844 - accuracy: 0.0000e+00\n",
            "Epoch 94/100\n",
            "13/13 [==============================] - 0s 2ms/step - loss: 391299.7232 - accuracy: 0.0000e+00\n",
            "Epoch 95/100\n",
            "13/13 [==============================] - 0s 2ms/step - loss: 438074.3147 - accuracy: 0.0000e+00\n",
            "Epoch 96/100\n",
            "13/13 [==============================] - 0s 2ms/step - loss: 418535.2344 - accuracy: 0.0000e+00\n",
            "Epoch 97/100\n",
            "13/13 [==============================] - 0s 2ms/step - loss: 372200.9576 - accuracy: 0.0000e+00\n",
            "Epoch 98/100\n",
            "13/13 [==============================] - 0s 2ms/step - loss: 386463.0647 - accuracy: 0.0000e+00\n",
            "Epoch 99/100\n",
            "13/13 [==============================] - 0s 2ms/step - loss: 394211.9062 - accuracy: 0.0000e+00\n",
            "Epoch 100/100\n",
            "13/13 [==============================] - 0s 2ms/step - loss: 422597.6696 - accuracy: 0.0000e+00\n"
          ],
          "name": "stdout"
        },
        {
          "output_type": "execute_result",
          "data": {
            "text/plain": [
              "<tensorflow.python.keras.callbacks.History at 0x7ff17422fc10>"
            ]
          },
          "metadata": {
            "tags": []
          },
          "execution_count": 27
        }
      ]
    },
    {
      "cell_type": "code",
      "metadata": {
        "colab": {
          "base_uri": "https://localhost:8080/"
        },
        "id": "47--Rs7ogZVN",
        "outputId": "5304291e-15b5-45e8-dde5-6a377acc4d28"
      },
      "source": [
        "y_pred_test = classifier.predict(x_test)\n",
        "\n",
        "#y_pred_train = classifier.predict(x_train)\n",
        "from sklearn.preprocessing import MinMaxScaler\n",
        "pred = []\n",
        "#y_pred_train = MinMaxScaler.inverse_transform(y_pred_train.reshape(-1,1))\n",
        "for i in y_pred_test:\n",
        "    pred.append(i.tolist()[0])\n",
        "\n",
        "pred\n",
        "\n",
        "#print(\"Accuracy on Train Set ==> \",clf.score(y_train,pred))\n",
        "#print(\"Accuracy on Test Set ==> \",metrics.accuracy_score(y_test,y_pred_test.round()))"
      ],
      "execution_count": null,
      "outputs": [
        {
          "output_type": "execute_result",
          "data": {
            "text/plain": [
              "[0.9968804121017456,\n",
              " 0.9926360249519348,\n",
              " 0.9901651740074158,\n",
              " 0.9988787770271301,\n",
              " 0.9990133047103882,\n",
              " 0.9997697472572327,\n",
              " 0.9955417513847351,\n",
              " 0.9990891218185425,\n",
              " 0.9834633469581604,\n",
              " 0.9576597213745117,\n",
              " 0.9998674392700195,\n",
              " 0.9605709910392761,\n",
              " 0.9815400242805481,\n",
              " 0.9978225231170654,\n",
              " 0.9994205236434937,\n",
              " 0.9966615438461304,\n",
              " 0.9820531606674194,\n",
              " 0.9986833930015564,\n",
              " 0.9998477697372437,\n",
              " 0.9652369618415833,\n",
              " 0.9995653033256531,\n",
              " 0.9281304478645325,\n",
              " 0.9852446913719177,\n",
              " 0.9993244409561157,\n",
              " 0.9997888207435608,\n",
              " 0.999701201915741,\n",
              " 0.9988824725151062,\n",
              " 0.9945777654647827,\n",
              " 0.9991912245750427,\n",
              " 0.9924625158309937,\n",
              " 0.9996453523635864,\n",
              " 0.9562041759490967,\n",
              " 0.9368787407875061]"
            ]
          },
          "metadata": {
            "tags": []
          },
          "execution_count": 11
        }
      ]
    },
    {
      "cell_type": "code",
      "metadata": {
        "id": "pvgV5NIcBtS3"
      },
      "source": [
        ""
      ],
      "execution_count": null,
      "outputs": []
    }
  ]
}